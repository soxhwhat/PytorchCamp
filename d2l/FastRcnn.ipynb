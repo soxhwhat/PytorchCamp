{
  "nbformat": 4,
  "nbformat_minor": 0,
  "metadata": {
    "colab": {
      "provenance": []
    },
    "kernelspec": {
      "name": "python3",
      "display_name": "Python 3"
    },
    "language_info": {
      "name": "python"
    },
    "accelerator": "GPU"
  },
  "cells": [
    {
      "cell_type": "code",
      "execution_count": null,
      "metadata": {
        "id": "jbsMU83gOLVU"
      },
      "outputs": [],
      "source": []
    },
    {
      "cell_type": "code",
      "source": [
        "from google.colab import drive\n",
        "drive.mount('/content/drive')"
      ],
      "metadata": {
        "colab": {
          "base_uri": "https://localhost:8080/"
        },
        "id": "Sag3gbb3Oaur",
        "outputId": "e7fad7a3-7072-47b0-d3d3-61a76057049e"
      },
      "execution_count": 1,
      "outputs": [
        {
          "output_type": "stream",
          "name": "stdout",
          "text": [
            "Drive already mounted at /content/drive; to attempt to forcibly remount, call drive.mount(\"/content/drive\", force_remount=True).\n"
          ]
        }
      ]
    },
    {
      "cell_type": "code",
      "source": [
        "import os\n",
        "os.chdir('/content/drive/MyDrive/FastRcnn')\n",
        "!pwd"
      ],
      "metadata": {
        "colab": {
          "base_uri": "https://localhost:8080/"
        },
        "id": "iaVNEmzsOcsq",
        "outputId": "733b864d-cf3f-45ff-9643-da10680fff53"
      },
      "execution_count": 2,
      "outputs": [
        {
          "output_type": "stream",
          "name": "stdout",
          "text": [
            "/content/drive/MyDrive/FastRcnn\n"
          ]
        }
      ]
    },
    {
      "cell_type": "code",
      "source": [
        "!git clone https://github.com/zjZSTU/Fast-R-CNN.git"
      ],
      "metadata": {
        "colab": {
          "base_uri": "https://localhost:8080/"
        },
        "id": "aRCt8Ah_OtQS",
        "outputId": "104fb414-4d01-4ec1-9ade-d036a0348703"
      },
      "execution_count": 4,
      "outputs": [
        {
          "output_type": "stream",
          "name": "stdout",
          "text": [
            "Cloning into 'Fast-R-CNN'...\n",
            "remote: Enumerating objects: 85, done.\u001b[K\n",
            "remote: Counting objects: 100% (85/85), done.\u001b[K\n",
            "remote: Compressing objects: 100% (54/54), done.\u001b[K\n",
            "remote: Total 85 (delta 34), reused 76 (delta 25), pack-reused 0\u001b[K\n",
            "Unpacking objects: 100% (85/85), done.\n"
          ]
        }
      ]
    },
    {
      "cell_type": "markdown",
      "source": [
        "multi_task_loss"
      ],
      "metadata": {
        "id": "e6RBMU5HFkt3"
      }
    },
    {
      "cell_type": "code",
      "source": [
        "# -*- coding: utf-8 -*-\n",
        "\n",
        "\"\"\"\n",
        "@date: 2020/3/31 下午3:33\n",
        "@file: multi_task_loss.py\n",
        "@author: zj\n",
        "@description: \n",
        "\"\"\"\n",
        "\n",
        "import torch\n",
        "import torch.nn as nn\n",
        "\n",
        "from models.smooth_l1_loss import SmoothL1Loss\n",
        "\n",
        "\n",
        "class MultiTaskLoss(nn.Module):\n",
        "\n",
        "    def __init__(self, lam=1):\n",
        "        super(MultiTaskLoss, self).__init__()\n",
        "        self.lam = lam\n",
        "        # L_cls使用交叉熵损失\n",
        "        self.cls = nn.CrossEntropyLoss()\n",
        "        # L_loc自定义\n",
        "        self.loc = SmoothL1Loss()\n",
        "\n",
        "    def forward(self, scores, preds, targets):\n",
        "        \"\"\"\n",
        "        计算多任务损失。N表示RoI数目\n",
        "        :param scores: [N, C]，C表示类别数\n",
        "        :param preds: [N, 4]，4表示边界框坐标x,y,w,h\n",
        "        :param targets: [N]，0表示背景类\n",
        "        :return:\n",
        "        \"\"\"\n",
        "        N = targets.shape[0]\n",
        "        return self.cls(scores, targets) + self.loc(scores[range(N), self.indicator(targets)],\n",
        "                                                    preds[range(N), self.indicator(preds)])\n",
        "\n",
        "    def indicator(self, cate):\n",
        "        return cate != 0\n"
      ],
      "metadata": {
        "id": "1AlcvLLNFkU5"
      },
      "execution_count": null,
      "outputs": []
    },
    {
      "cell_type": "markdown",
      "source": [
        "roi_pool.py\n"
      ],
      "metadata": {
        "id": "mQ1k8uqxICLx"
      }
    },
    {
      "cell_type": "code",
      "source": [
        "import torch\n",
        "import torch.nn as nn\n",
        "\n",
        "class ROI_Pool(nn.Module):\n",
        "\n",
        "  def __init__(self, size):\n",
        "    super(ROI_Pool, self).__init__()\n",
        "    assert len(size) == 2, 'size参数输入（长宽）'\n",
        "    pool_func = nn.AdaptiveMaxPool2d\n",
        "\n",
        "    self.roi_pool = pool_func(size)\n",
        "\n",
        "  def forward(self, feature_maps):\n",
        "    assert feature_maps.dim() == 4, 'Expected 4d input of (N, C, H, W)'\n",
        "    return self.roi_pool(feature_maps)\n",
        "\n",
        "    "
      ],
      "metadata": {
        "id": "3T0vEGS-KS8w"
      },
      "execution_count": 3,
      "outputs": []
    },
    {
      "cell_type": "markdown",
      "source": [
        "smooth_l1_loss\n"
      ],
      "metadata": {
        "id": "vQ67AObcbIWY"
      }
    },
    {
      "cell_type": "code",
      "source": [
        "\n",
        "import torch\n",
        "import torch.nn as nn\n",
        "\n",
        "\n",
        "class SmoothL1Loss(nn.Module):\n",
        "\n",
        "    def __init__(self):\n",
        "        super(SmoothL1Loss, self).__init__()\n",
        "\n",
        "    def forward(self, preds, targets):\n",
        "        \"\"\"\n",
        "        计算边界框回归损失。N表示RoI个数\n",
        "        :param preds: 大小为[N, 4]，分别保存每个边界框的预测x,y,w,h\n",
        "        :param targets: 大小为[N, 4]，分别保存每个边界框的实际x,y,w,h\n",
        "        :return:\n",
        "        \"\"\"\n",
        "        res = self.smooth_l1(preds - targets)\n",
        "        return torch.sum(res)\n",
        "\n",
        "    def smooth_l1(self, x):\n",
        "        if torch.abs(x) < 1:\n",
        "            return 0.5 * torch.pow(x, 2)\n",
        "        else:\n",
        "            return torch.abs(x) - 0.5\n"
      ],
      "metadata": {
        "id": "UAhh04q5bkC4"
      },
      "execution_count": null,
      "outputs": []
    },
    {
      "cell_type": "markdown",
      "source": [
        "vgg16_roi.py\n"
      ],
      "metadata": {
        "id": "d-Qqogd2ccV4"
      }
    },
    {
      "cell_type": "code",
      "source": [
        "# -*- coding: utf-8 -*-\n",
        "\n",
        "\"\"\"\n",
        "@date: 2020/3/31 下午2:55\n",
        "@file: vgg16_roi.py\n",
        "@author: zj\n",
        "@description: \n",
        "\"\"\"\n",
        "\n",
        "import torch\n",
        "import torch.nn as nn\n",
        "import torchvision.models as models\n",
        "\n",
        "import models.roi_pool as roi_pool\n",
        "\n",
        "\n",
        "class VGG16_RoI(nn.Module):\n",
        "\n",
        "    def __init__(self, num_classes=1000, init_weights=True):\n",
        "        \"\"\"\n",
        "        :param num_classes: 类别数，不包括背景类别\n",
        "        :param init_weights:\n",
        "        \"\"\"\n",
        "        super(VGG16_RoI, self).__init__()\n",
        "        # VGG16模型的卷积层设置，取消最后一个最大池化层'M'\n",
        "        feature_list = [64, 64, 'M', 128, 128, 'M', 256, 256, 256, 'M', 512, 512, 512, 'M', 512, 512, 512]\n",
        "\n",
        "        self.features = models.vgg.make_layers(feature_list)\n",
        "        # self.avgpool = nn.AdaptiveAvgPool2d((7, 7))\n",
        "        self.roipool = roi_pool.ROI_Pool((7, 7))\n",
        "        self.classifier = nn.Sequential(\n",
        "            nn.Linear(512 * 7 * 7, 4096),\n",
        "            nn.ReLU(True),\n",
        "            nn.Dropout(),\n",
        "            nn.Linear(4096, 4096),\n",
        "            nn.ReLU(True),\n",
        "            nn.Dropout(),\n",
        "            # nn.Linear(4096, num_classes),\n",
        "        )\n",
        "        self.softmax = nn.Linear(4096, num_classes + 1)\n",
        "        self.bbox = nn.Linear(4096, num_classes * 4)\n",
        "\n",
        "        if init_weights:\n",
        "            self._initialize_weights()\n",
        "\n",
        "    def forward(self, x):\n",
        "        x = self.features(x)\n",
        "        # x = self.avgpool(x)\n",
        "        x = self.roipool(x)\n",
        "        x = torch.flatten(x, 1)\n",
        "        x = self.classifier(x)\n",
        "        classify = self.softmax(x)\n",
        "        regression = self.bbox(x)\n",
        "        return classify, regression\n",
        "\n",
        "    def _initialize_weights(self):\n",
        "        for m in self.modules():\n",
        "            if isinstance(m, nn.Conv2d):\n",
        "                nn.init.kaiming_normal_(m.weight, mode='fan_out', nonlinearity='relu')\n",
        "                if m.bias is not None:\n",
        "                    nn.init.constant_(m.bias, 0)\n",
        "            elif isinstance(m, nn.BatchNorm2d):\n",
        "                nn.init.constant_(m.weight, 1)\n",
        "                nn.init.constant_(m.bias, 0)\n",
        "            elif isinstance(m, nn.Linear):\n",
        "                nn.init.normal_(m.weight, 0, 0.01)\n",
        "                nn.init.constant_(m.bias, 0)\n",
        "\n",
        "\n",
        "if __name__ == '__main__':\n",
        "    # model = models.vgg16(pretrained=True)\n",
        "    model = VGG16_RoI()\n",
        "    print(model)\n"
      ],
      "metadata": {
        "colab": {
          "base_uri": "https://localhost:8080/",
          "height": 134
        },
        "id": "NR5GbhbadhvQ",
        "outputId": "5282fe0d-791e-4d31-8380-eee2fcb8b878"
      },
      "execution_count": 2,
      "outputs": [
        {
          "output_type": "error",
          "ename": "SyntaxError",
          "evalue": "ignored",
          "traceback": [
            "\u001b[0;36m  File \u001b[0;32m\"<ipython-input-2-7d5393214a64>\"\u001b[0;36m, line \u001b[0;32m5\u001b[0m\n\u001b[0;31m    import /content/drive/MyDrive/FastRcnn/Fast-R-CNN/py/models.roi_pool as roi_pool\u001b[0m\n\u001b[0m           ^\u001b[0m\n\u001b[0;31mSyntaxError\u001b[0m\u001b[0;31m:\u001b[0m invalid syntax\n"
          ]
        }
      ]
    },
    {
      "cell_type": "code",
      "source": [],
      "metadata": {
        "id": "gx5VNwb_exgq"
      },
      "execution_count": null,
      "outputs": []
    }
  ]
}