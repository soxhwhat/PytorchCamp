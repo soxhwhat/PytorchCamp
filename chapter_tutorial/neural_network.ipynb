{
  "nbformat": 4,
  "nbformat_minor": 0,
  "metadata": {
    "colab": {
      "provenance": []
    },
    "kernelspec": {
      "name": "python3",
      "display_name": "Python 3"
    },
    "language_info": {
      "name": "python"
    },
    "accelerator": "GPU",
    "gpuClass": "standard"
  },
  "cells": [
    {
      "cell_type": "markdown",
      "source": [
        "我们可以使用torch.nn包构建神经网络\n",
        "\n",
        "nn依赖于autograd来定义模型并对其进行微分。nn.Module包含层，以及返回output的方法forward(input)\n",
        "\n",
        "卷积网\n",
        "这是一个简单的前馈网络，它获取输入，将其一层又一层地馈入，然后最终给出输出\n",
        "![](https://pytorch.apachecn.org/docs/1.7/img/3250cbba812d68265cf7815d987bcd1b.png)\n",
        "\n",
        "神经网络的典型训练过程如下：\n",
        "- 定义具有一些可学习参数（或权重）的神经网络\n",
        "- 遍历输入数据集\n",
        "- 通过网络处理输入\n",
        "- 计算损失（输出正确的距离有多远）\n",
        "- 将梯度传播回网络参数\n",
        "- 通过使用简单的更新规则来更新网络的权重：weight = weight - learning_late * gradient\n",
        "\n"
      ],
      "metadata": {
        "id": "wHe-ko--ZzxP"
      }
    },
    {
      "cell_type": "markdown",
      "source": [
        "定义网络"
      ],
      "metadata": {
        "id": "T6L1ncEASNqb"
      }
    },
    {
      "cell_type": "code",
      "execution_count": 2,
      "metadata": {
        "colab": {
          "base_uri": "https://localhost:8080/"
        },
        "id": "Cerf5kq7Zg-o",
        "outputId": "f46eee12-6e3a-4476-fa5e-1a3082ef24c6"
      },
      "outputs": [
        {
          "output_type": "stream",
          "name": "stdout",
          "text": [
            "Net(\n",
            "  (conv1): Conv2d(1, 6, kernel_size=(5, 5), stride=(1, 1))\n",
            "  (conv2): Conv2d(6, 16, kernel_size=(5, 5), stride=(1, 1))\n",
            "  (fc1): Linear(in_features=400, out_features=120, bias=True)\n",
            "  (fc2): Linear(in_features=120, out_features=84, bias=True)\n",
            "  (fc3): Linear(in_features=84, out_features=10, bias=True)\n",
            ")\n"
          ]
        }
      ],
      "source": [
        "import torch\n",
        "import torch.nn as nn\n",
        "import torch.nn.functional as F\n",
        "\n",
        "\n",
        "class Net(nn.Module):\n",
        "\n",
        "    def __init__(self):\n",
        "        super(Net, self).__init__()\n",
        "        # 1 input image channel, 6 output channels, 5x5 square convolution\n",
        "        # kernel\n",
        "        self.conv1 = nn.Conv2d(1, 6, 5)\n",
        "        self.conv2 = nn.Conv2d(6, 16, 5)\n",
        "        # an affine operation: y = Wx + b\n",
        "        self.fc1 = nn.Linear(16 * 5 * 5, 120)  # 5*5 from image dimension\n",
        "        self.fc2 = nn.Linear(120, 84)\n",
        "        self.fc3 = nn.Linear(84, 10)\n",
        "\n",
        "    def forward(self, x):\n",
        "        # Max pooling over a (2, 2) window\n",
        "        x = F.max_pool2d(F.relu(self.conv1(x)), (2, 2))\n",
        "        # If the size is a square, you can specify with a single number\n",
        "        x = F.max_pool2d(F.relu(self.conv2(x)), 2)\n",
        "        x = torch.flatten(x, 1) # flatten all dimensions except the batch dimension\n",
        "        x = F.relu(self.fc1(x))\n",
        "        x = F.relu(self.fc2(x))\n",
        "        x = self.fc3(x)\n",
        "        return x\n",
        "\n",
        "\n",
        "net = Net()\n",
        "print(net)"
      ]
    },
    {
      "cell_type": "markdown",
      "source": [
        "只需要定义forward函数，就可以使用autograd自动定义backward函数计算梯度，可以在forward函数中使用任何张量操作\n",
        "模型的可学习参数由net.parameters()返回"
      ],
      "metadata": {
        "id": "TPx9gv0Py6kD"
      }
    },
    {
      "cell_type": "code",
      "source": [
        "params = list(net.parameters())\n",
        "print(len(params))\n",
        "print(params[0].size())  # conv1's .weight\n"
      ],
      "metadata": {
        "colab": {
          "base_uri": "https://localhost:8080/"
        },
        "id": "6OixIIxpjpdR",
        "outputId": "fd4a166b-a5e1-4888-8272-e2531bd7f2fc"
      },
      "execution_count": 4,
      "outputs": [
        {
          "output_type": "stream",
          "name": "stdout",
          "text": [
            "10\n",
            "torch.Size([6, 1, 5, 5])\n"
          ]
        }
      ]
    },
    {
      "cell_type": "markdown",
      "source": [
        "让我们尝试一个32*32随机输入。注意：该网络的预期输入大小（LeNet）为32 * 32\n",
        "要在MNIST数据集上使用此网络，请将图像从数据集中调整为32 * 32\n",
        "\n",
        "\n"
      ],
      "metadata": {
        "id": "dZV4QW2TzeeL"
      }
    },
    {
      "cell_type": "code",
      "source": [
        "input = torch.randn(1, 1, 32, 32)\n",
        "out = net(input)\n",
        "print(out)"
      ],
      "metadata": {
        "id": "LfV0blQCzSAU",
        "outputId": "80d34422-9296-484e-f9a9-2d4e0b0b8740",
        "colab": {
          "base_uri": "https://localhost:8080/"
        }
      },
      "execution_count": 5,
      "outputs": [
        {
          "output_type": "stream",
          "name": "stdout",
          "text": [
            "tensor([[ 0.0595,  0.0477, -0.0708, -0.0842, -0.1319,  0.0386,  0.0182,  0.0192,\n",
            "         -0.0662, -0.0439]], grad_fn=<AddmmBackward0>)\n"
          ]
        }
      ]
    },
    {
      "cell_type": "markdown",
      "source": [
        "使用随机梯度将所有参数和反向传播的梯度缓冲区归零\n"
      ],
      "metadata": {
        "id": "7gdQhoL70DtK"
      }
    },
    {
      "cell_type": "code",
      "source": [
        "net.zero_grad()\n",
        "out.backward(torch.randn(1, 10))"
      ],
      "metadata": {
        "id": "THlLmmlMz39A"
      },
      "execution_count": 6,
      "outputs": []
    },
    {
      "cell_type": "markdown",
      "source": [
        "### 损失函数\n",
        "损失函数采用一对（输入，目标）输入，并计算一个值，该值估计输出与目标之间的距离。\n",
        "\n",
        "nn包下有几种不同的损失函数。一个简单的损失是nn.MSELoss,它计算输入和目标之间的均方误差。\n"
      ],
      "metadata": {
        "id": "e3TDsma70ZQi"
      }
    },
    {
      "cell_type": "code",
      "source": [
        "output = net(input)\n",
        "target = torch.randn(1, 10)\n",
        "target = target.view(1, -1) # make it the same shape as output\n",
        "criterion = nn.MSELoss()\n",
        "\n",
        "loss = criterion(output, target)\n",
        "print(loss)"
      ],
      "metadata": {
        "id": "jz6VdtXA0vgc",
        "outputId": "9320675a-1855-4078-b4c6-bbca4a18ceb7",
        "colab": {
          "base_uri": "https://localhost:8080/"
        }
      },
      "execution_count": 7,
      "outputs": [
        {
          "output_type": "stream",
          "name": "stdout",
          "text": [
            "tensor(0.8668, grad_fn=<MseLossBackward0>)\n"
          ]
        }
      ]
    },
    {
      "cell_type": "markdown",
      "source": [
        "现在，如果使用.grad_fn属性向后跟随loss，您将看到一个计算图，如下所示：\n",
        "\n",
        "input -> conv2d -> relu -> maxpool2d -> conv2d -> relu -> maxpool2d\n",
        "      -> view -> linear -> relu -> linear -> relu -> linear\n",
        "      -> MSELoss\n",
        "      -> loss\n",
        "\n",
        "当我们调用loss.backward()时，整个图被微分，损失。并且图中具有requires_grad = True的所有张量将随梯度累计.grad张量"
      ],
      "metadata": {
        "id": "LIy5lDYH1QN1"
      }
    },
    {
      "cell_type": "code",
      "source": [
        "print(loss.grad_fn)  # MSELoss\n",
        "print(loss.grad_fn.next_functions[0][0])  # Linear\n",
        "print(loss.grad_fn.next_functions[0][0].next_functions[0][0])  # ReLU\n"
      ],
      "metadata": {
        "id": "izctBBbZ1HEj",
        "outputId": "2b93cd8c-1e22-4633-ec8b-4ed3b5afab51",
        "colab": {
          "base_uri": "https://localhost:8080/"
        }
      },
      "execution_count": 8,
      "outputs": [
        {
          "output_type": "stream",
          "name": "stdout",
          "text": [
            "<MseLossBackward0 object at 0x7f4c33ce0f90>\n",
            "<AddmmBackward0 object at 0x7f4c33ce07d0>\n",
            "<AccumulateGrad object at 0x7f4c33ce0f90>\n"
          ]
        }
      ]
    },
    {
      "cell_type": "markdown",
      "source": [
        "### 反向传播\n",
        "要反向传播误差，我们要做的只是对loss.backward()\n",
        "不过需要清除现有的梯度，否则梯度将累积到现有的梯度中\n",
        "\n",
        "现在我们将其称为loss.backward(),然后看一下向前向后conv1的偏差梯度"
      ],
      "metadata": {
        "id": "sIucLYDa1vm6"
      }
    },
    {
      "cell_type": "code",
      "source": [
        "net.zero_grad()  # zeroes the gradient buffers of all parameters\n",
        "\n",
        "print('conv1.bias.grad before backward')\n",
        "print(net.conv1.bias.grad)\n",
        "\n",
        "loss.backward()\n",
        "\n",
        "print('conv1.bias.grad after backward')\n",
        "print(net.conv1.bias.grad)"
      ],
      "metadata": {
        "id": "qiU7sWy92GMj",
        "outputId": "1f784ace-b508-4cbf-8c9a-73c46f77baaf",
        "colab": {
          "base_uri": "https://localhost:8080/"
        }
      },
      "execution_count": 9,
      "outputs": [
        {
          "output_type": "stream",
          "name": "stdout",
          "text": [
            "conv1.bias.grad before backward\n",
            "tensor([0., 0., 0., 0., 0., 0.])\n",
            "conv1.bias.grad after backward\n",
            "tensor([-0.0086,  0.0229,  0.0016,  0.0032,  0.0208,  0.0032])\n"
          ]
        }
      ]
    },
    {
      "cell_type": "markdown",
      "source": [
        "### 更新权重\n",
        "\n",
        "实践中使用的最简单的更新规则是随机梯度下降（SGD)\n",
        "\n",
        "weight = weight - learning_rate * gradient\n"
      ],
      "metadata": {
        "id": "ZuHXRWaD2W5R"
      }
    },
    {
      "cell_type": "code",
      "source": [
        "learing_rate = 0.1\n",
        "for f in net.parameters():\n",
        "  f.data.sub_(f.grad.data * learing_rate)"
      ],
      "metadata": {
        "id": "3boYVYvA2mCc"
      },
      "execution_count": null,
      "outputs": []
    },
    {
      "cell_type": "markdown",
      "source": [
        "但是，在使用神经网络时，您希望使用各种不同的更新规则，例如 SGD，Nesterov-SGD，Adam，RMSProp 等。为实现此目的，我们构建了一个小包装：torch.optim，可实现所有这些方法。 使用它非常简单：\n",
        "\n"
      ],
      "metadata": {
        "id": "0uCKwNvZ2516"
      }
    },
    {
      "cell_type": "code",
      "source": [
        "import torch.optim as optim\n",
        "\n",
        "# create your optimizer\n",
        "optimizer = optim.SGD(net.parameters(), lr=0.01)\n",
        "\n",
        "# in your training loop:\n",
        "optimizer.zero_grad()   # zero the gradient buffers\n",
        "output = net(input)\n",
        "loss = criterion(output, target)\n",
        "loss.backward()\n",
        "optimizer.step()    # Does the update\n"
      ],
      "metadata": {
        "id": "_GWR_pHq3Bbj"
      },
      "execution_count": null,
      "outputs": []
    },
    {
      "cell_type": "markdown",
      "source": [
        "观察如何使用optimizer.zero_grad()将梯度缓冲区手动设置为零。 这是因为如反向传播部分中所述累积了梯度。"
      ],
      "metadata": {
        "id": "7ybvkzdc3J6K"
      }
    }
  ]
}